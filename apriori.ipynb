{
 "cells": [
  {
   "cell_type": "code",
   "execution_count": 1,
   "metadata": {},
   "outputs": [],
   "source": [
    "import pandas as pd\n",
    "import numpy as np\n",
    "from typing import List,Set\n",
    "from pandas import DataFrame\n",
    "from mlxtend.preprocessing import TransactionEncoder\n",
    "\n",
    "data =[]\n",
    "with open(\"datasets/store_data.csv\") as f:\n",
    "    for line in f:\n",
    "        transaction = [item.strip() for item in line.strip().rstrip().split(\",\")]\n",
    "        data.append(transaction)\n",
    "\n",
    "te = TransactionEncoder()\n",
    "te_ary = te.fit_transform(data)\n",
    "data_df = pd.DataFrame(te_ary, columns=te.columns_)"
   ]
  },
  {
   "cell_type": "code",
   "execution_count": 2,
   "metadata": {},
   "outputs": [],
   "source": [
    "from mlxtend.frequent_patterns import apriori\n",
    "\n",
    "frequent_itemsets = apriori(pd.DataFrame(data_df), min_support=0.005, use_colnames=True)"
   ]
  },
  {
   "cell_type": "code",
   "execution_count": 3,
   "metadata": {},
   "outputs": [],
   "source": [
    "from mlxtend.frequent_patterns import fpgrowth\n",
    "frequent_itemsets = fpgrowth(pd.DataFrame(data_df), min_support=0.005, use_colnames=True)"
   ]
  },
  {
   "cell_type": "code",
   "execution_count": 4,
   "metadata": {},
   "outputs": [],
   "source": [
    "from mlxtend.frequent_patterns import association_rules\n",
    "rules = association_rules(frequent_itemsets, metric=\"confidence\",min_threshold=0.5).sort_values('lift', ascending=False)"
   ]
  },
  {
   "cell_type": "code",
   "execution_count": 5,
   "metadata": {},
   "outputs": [
    {
     "ename": "ModuleNotFoundError",
     "evalue": "No module named 'util'",
     "output_type": "error",
     "traceback": [
      "\u001b[1;31m---------------------------------------------------------------------------\u001b[0m",
      "\u001b[1;31mModuleNotFoundError\u001b[0m                       Traceback (most recent call last)",
      "Cell \u001b[1;32mIn [5], line 1\u001b[0m\n\u001b[1;32m----> 1\u001b[0m \u001b[39mfrom\u001b[39;00m \u001b[39malgs\u001b[39;00m\u001b[39m.\u001b[39;00m\u001b[39mfp_tree\u001b[39;00m \u001b[39mimport\u001b[39;00m fp_growth\n\u001b[0;32m      2\u001b[0m data_df\u001b[39m.\u001b[39mhead()\n\u001b[0;32m      4\u001b[0m itemsets \u001b[39m=\u001b[39m fp_growth(data_df, \u001b[39m0.005\u001b[39m)\n",
      "File \u001b[1;32mc:\\Users\\sepp4\\Desktop\\BA\\rule_mining_algs\\algs\\fp_tree.py:7\u001b[0m\n\u001b[0;32m      4\u001b[0m \u001b[39mfrom\u001b[39;00m \u001b[39mpandas\u001b[39;00m \u001b[39mimport\u001b[39;00m DataFrame\n\u001b[0;32m      5\u001b[0m \u001b[39mfrom\u001b[39;00m \u001b[39mcollections\u001b[39;00m \u001b[39mimport\u001b[39;00m defaultdict\n\u001b[1;32m----> 7\u001b[0m \u001b[39mfrom\u001b[39;00m \u001b[39mutil\u001b[39;00m \u001b[39mimport\u001b[39;00m get_frequent_1_itemsets\n\u001b[0;32m     10\u001b[0m \u001b[39mclass\u001b[39;00m \u001b[39mFPNode\u001b[39;00m:\n\u001b[0;32m     11\u001b[0m     \u001b[39m\"\"\"Node used in a fp tree.\u001b[39;00m\n\u001b[0;32m     12\u001b[0m \u001b[39m    \"\"\"\u001b[39;00m\n",
      "\u001b[1;31mModuleNotFoundError\u001b[0m: No module named 'util'"
     ]
    }
   ],
   "source": [
    "from algs.fp_tree import fp_growth\n",
    "data_df.head()\n",
    "\n",
    "itemsets = fp_growth(data_df, 0.005)"
   ]
  }
 ],
 "metadata": {
  "kernelspec": {
   "display_name": "Python 3.9.3 ('venv': venv)",
   "language": "python",
   "name": "python3"
  },
  "language_info": {
   "codemirror_mode": {
    "name": "ipython",
    "version": 3
   },
   "file_extension": ".py",
   "mimetype": "text/x-python",
   "name": "python",
   "nbconvert_exporter": "python",
   "pygments_lexer": "ipython3",
   "version": "3.9.3"
  },
  "orig_nbformat": 4,
  "vscode": {
   "interpreter": {
    "hash": "ff01425409cdefb608fcffad6c3a8c986251e0678b9de051d6f0d3101bc54d5f"
   }
  }
 },
 "nbformat": 4,
 "nbformat_minor": 2
}
