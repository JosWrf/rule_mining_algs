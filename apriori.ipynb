{
 "cells": [
  {
   "cell_type": "code",
   "execution_count": 1,
   "metadata": {},
   "outputs": [],
   "source": [
    "from algs.models import StandardMiner\n",
    "from algs.fp_tree import fp_growth\n",
    "from algs.rule_gen import generate_rules\n",
    "from algs.data import load_store_data\n",
    "\n",
    "data_df = load_store_data()\n",
    "\n",
    "m = StandardMiner()\n",
    "m.set_args(m.itemset_miner, {\"min_support\": 0.005})\n",
    "m.set_args(m.rule_miner, {\"min_conf\": 0.5})\n",
    "output = m.run(data_df)"
   ]
  },
  {
   "cell_type": "code",
   "execution_count": 2,
   "metadata": {},
   "outputs": [],
   "source": [
    "from algs.data import load_shroom_data\n",
    "from algs.quantitative import static_discretization\n",
    "from algs.rule_gen import get_classification_rules\n",
    "\n",
    "\n",
    "shrooms = load_shroom_data()\n",
    "mine_quant = StandardMiner(static_discretization)\n",
    "names = {name: 0 for name in shrooms.columns}\n",
    "mine_quant.set_args(mine_quant.transformer, {\"discretization\": names}) \n",
    "mine_quant.set_args(mine_quant.itemset_miner, {\"min_support\": 0.15})\n",
    "mine_quant.set_args(mine_quant.rule_miner, {\"min_conf\": 0.65})\n",
    "rules = mine_quant.run(shrooms)\n",
    "classification_rules = get_classification_rules(rules, \"label\")\n"
   ]
  }
 ],
 "metadata": {
  "kernelspec": {
   "display_name": "Python 3.10.6 ('venv': venv)",
   "language": "python",
   "name": "python3"
  },
  "language_info": {
   "codemirror_mode": {
    "name": "ipython",
    "version": 3
   },
   "file_extension": ".py",
   "mimetype": "text/x-python",
   "name": "python",
   "nbconvert_exporter": "python",
   "pygments_lexer": "ipython3",
   "version": "3.10.6"
  },
  "orig_nbformat": 4,
  "vscode": {
   "interpreter": {
    "hash": "3b57a7adfb0c40f01558bf1b6ed0dc7950d21f38a7dec33274105ef0c6f3d836"
   }
  }
 },
 "nbformat": 4,
 "nbformat_minor": 2
}
