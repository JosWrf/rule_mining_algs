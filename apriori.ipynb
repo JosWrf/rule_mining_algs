{
 "cells": [
  {
   "cell_type": "code",
   "execution_count": 1,
   "metadata": {},
   "outputs": [],
   "source": [
    "import pandas as pd\n",
    "from mlxtend.preprocessing import TransactionEncoder\n",
    "\n",
    "data =[]\n",
    "with open(\"datasets/store_data.csv\") as f:\n",
    "    for line in f:\n",
    "        transaction = [item.strip() for item in line.strip().rstrip().split(\",\")]\n",
    "        data.append(transaction)\n",
    "\n",
    "te = TransactionEncoder()\n",
    "te_ary = te.fit_transform(data)\n",
    "data_df = pd.DataFrame(te_ary, columns=te.columns_)"
   ]
  },
  {
   "cell_type": "code",
   "execution_count": 2,
   "metadata": {},
   "outputs": [],
   "source": [
    "from mlxtend.frequent_patterns import apriori\n",
    "\n",
    "frequent_itemsets = apriori(pd.DataFrame(data_df), min_support=0.005, use_colnames=True)"
   ]
  },
  {
   "cell_type": "code",
   "execution_count": 3,
   "metadata": {},
   "outputs": [],
   "source": [
    "from mlxtend.frequent_patterns import fpgrowth\n",
    "frequent_itemsets = fpgrowth(pd.DataFrame(data_df), min_support=0.005, use_colnames=True)"
   ]
  },
  {
   "cell_type": "code",
   "execution_count": 4,
   "metadata": {},
   "outputs": [],
   "source": [
    "from mlxtend.frequent_patterns import association_rules\n",
    "rules = association_rules(frequent_itemsets, metric=\"confidence\",min_threshold=0.5).sort_values('lift', ascending=False)"
   ]
  },
  {
   "cell_type": "code",
   "execution_count": 5,
   "metadata": {},
   "outputs": [
    {
     "name": "stdout",
     "output_type": "stream",
     "text": [
      "('transactions', 'min_support')\n",
      "('frequent_itemsets', 'min_conf')\n"
     ]
    }
   ],
   "source": [
    "from algs.models import StandardMiner\n",
    "from algs.fp_tree import fp_growth\n",
    "from algs.rule_gen import generate_rules\n",
    "\n",
    "m = StandardMiner()\n",
    "m.set_args(fp_growth, {\"min_support\": 0.005})\n",
    "m.set_args(generate_rules, {\"min_conf\": 0.5})\n",
    "output = m.run(data_df)"
   ]
  }
 ],
 "metadata": {
  "kernelspec": {
   "display_name": "Python 3.10.6 ('venv': venv)",
   "language": "python",
   "name": "python3"
  },
  "language_info": {
   "codemirror_mode": {
    "name": "ipython",
    "version": 3
   },
   "file_extension": ".py",
   "mimetype": "text/x-python",
   "name": "python",
   "nbconvert_exporter": "python",
   "pygments_lexer": "ipython3",
   "version": "3.10.6"
  },
  "orig_nbformat": 4,
  "vscode": {
   "interpreter": {
    "hash": "3b57a7adfb0c40f01558bf1b6ed0dc7950d21f38a7dec33274105ef0c6f3d836"
   }
  }
 },
 "nbformat": 4,
 "nbformat_minor": 2
}
