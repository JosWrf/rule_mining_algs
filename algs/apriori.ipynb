{
 "cells": [
  {
   "cell_type": "code",
   "execution_count": 5,
   "metadata": {},
   "outputs": [],
   "source": [
    "import pandas as pd\n",
    "import numpy as np\n",
    "from typing import List,Set\n",
    "from pandas import DataFrame\n",
    "from mlxtend.preprocessing import TransactionEncoder\n",
    "\n",
    "data =[]\n",
    "with open(\"../datasets/store_data.csv\") as f:\n",
    "    for line in f:\n",
    "        transaction = [item.strip() for item in line.strip().rstrip().split(\",\")]\n",
    "        data.append(transaction)\n",
    "\n",
    "te = TransactionEncoder()\n",
    "te_ary = te.fit_transform(data)\n",
    "data_df = pd.DataFrame(te_ary, columns=te.columns_)"
   ]
  },
  {
   "cell_type": "code",
   "execution_count": 6,
   "metadata": {},
   "outputs": [],
   "source": [
    "from mlxtend.frequent_patterns import apriori\n",
    "\n",
    "frequent_itemsets = apriori(pd.DataFrame(data_df), min_support=0.005, use_colnames=True)"
   ]
  },
  {
   "cell_type": "code",
   "execution_count": null,
   "metadata": {},
   "outputs": [],
   "source": [
    "from mlxtend.frequent_patterns import fpgrowth\n",
    "frequent_itemsets = fpgrowth(pd.DataFrame(data_df), min_support=0.005, use_colnames=True)"
   ]
  },
  {
   "cell_type": "code",
   "execution_count": 7,
   "metadata": {},
   "outputs": [],
   "source": [
    "from mlxtend.frequent_patterns import association_rules\n",
    "rules = association_rules(frequent_itemsets, metric=\"confidence\",min_threshold=0.5).sort_values('lift', ascending=False)"
   ]
  },
  {
   "cell_type": "code",
   "execution_count": 10,
   "metadata": {},
   "outputs": [],
   "source": [
    "from fp_tree import fp_tree_growth\n",
    "data_df.head()\n",
    "\n",
    "itemsets = fp_tree_growth(data_df, 0.005)\n",
    "fp_itemsets = pd.DataFrame(itemsets.items(), index=[i for i in range(\n",
    "        len(itemsets))], columns=['itemsets', 'support'])\n",
    "fp_itemsets[\"support\"] = fp_itemsets[\"support\"] / len(data_df)\n",
    "fp_itemsets = fp_itemsets[fp_itemsets['support'] > 0.005]\n"
   ]
  }
 ],
 "metadata": {
  "kernelspec": {
   "display_name": "Python 3.9.3 ('venv': venv)",
   "language": "python",
   "name": "python3"
  },
  "language_info": {
   "codemirror_mode": {
    "name": "ipython",
    "version": 3
   },
   "file_extension": ".py",
   "mimetype": "text/x-python",
   "name": "python",
   "nbconvert_exporter": "python",
   "pygments_lexer": "ipython3",
   "version": "3.9.3"
  },
  "orig_nbformat": 4,
  "vscode": {
   "interpreter": {
    "hash": "ff01425409cdefb608fcffad6c3a8c986251e0678b9de051d6f0d3101bc54d5f"
   }
  }
 },
 "nbformat": 4,
 "nbformat_minor": 2
}
